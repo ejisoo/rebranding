{
 "cells": [
  {
   "cell_type": "markdown",
   "metadata": {},
   "source": [
    "# Extracting tweets"
   ]
  },
  {
   "cell_type": "markdown",
   "metadata": {},
   "source": [
    "## Twitter API"
   ]
  },
  {
   "cell_type": "code",
   "execution_count": 1,
   "metadata": {
    "collapsed": true
   },
   "outputs": [],
   "source": [
    "from twitter.oauth import write_token_file, read_token_file\n",
    "from twitter.oauth_dance import oauth_dance\n",
    "import os\n",
    "import twitter\n",
    "from credentials import *"
   ]
  },
  {
   "cell_type": "code",
   "execution_count": 2,
   "metadata": {},
   "outputs": [
    {
     "name": "stdout",
     "output_type": "stream",
     "text": [
      "Hi there! We're gonna get you all set up to use VoterLitmus.\n",
      "\n",
      "In the web browser window that opens please choose to Allow\n",
      "access. Copy the PIN number that appears on the next page and paste or\n",
      "type it here:\n",
      "\n",
      "Opening: https://api.twitter.com/oauth/authorize?oauth_token=eXjdWAAAAAAA0TOZAAABW-sD3XA\n",
      "\n",
      "Please enter the PIN: 1444421\n"
     ]
    }
   ],
   "source": [
    "token, token_secret = oauth_dance(APP_NAME, CONSUMER_KEY, CONSUMER_SECRET)\n",
    "\n",
    "app = twitter.Twitter(domain='api.twitter.com', api_version='1.1',\n",
    "                      auth=twitter.oauth.OAuth(token, token_secret,\n",
    "                                               CONSUMER_KEY, CONSUMER_SECRET))"
   ]
  },
  {
   "cell_type": "code",
   "execution_count": 3,
   "metadata": {
    "scrolled": true
   },
   "outputs": [
    {
     "name": "stdout",
     "output_type": "stream",
     "text": [
      "100\n"
     ]
    }
   ],
   "source": [
    "# search_results = app.search.tweets(q=\"Trump\", count=100, lang='en', since=\"2016-11-15\")\n",
    "# search_results = app.search.tweets(q=\"Trump\", count=100, lang='en', max_id=856600000000000000)\n",
    "search_results = app.search.tweets(q=\"Trump\", count=100, lang='en')\n",
    "statuses = search_results['statuses']\n",
    "print(len(statuses))"
   ]
  },
  {
   "cell_type": "code",
   "execution_count": 4,
   "metadata": {
    "scrolled": true
   },
   "outputs": [
    {
     "data": {
      "text/plain": [
       "{u'contributors_enabled': False,\n",
       " u'created_at': u'Fri Jan 18 01:59:17 +0000 2013',\n",
       " u'default_profile': True,\n",
       " u'default_profile_image': False,\n",
       " u'description': u'',\n",
       " u'entities': {u'description': {u'urls': []}},\n",
       " u'favourites_count': 39063,\n",
       " u'follow_request_sent': False,\n",
       " u'followers_count': 596,\n",
       " u'following': False,\n",
       " u'friends_count': 1001,\n",
       " u'geo_enabled': True,\n",
       " u'has_extended_profile': False,\n",
       " u'id': 1099771423,\n",
       " u'id_str': u'1099771423',\n",
       " u'is_translation_enabled': False,\n",
       " u'is_translator': False,\n",
       " u'lang': u'en',\n",
       " u'listed_count': 46,\n",
       " u'location': u'',\n",
       " u'name': u'illegalPresidentDT!!',\n",
       " u'notifications': False,\n",
       " u'profile_background_color': u'C0DEED',\n",
       " u'profile_background_image_url': u'http://abs.twimg.com/images/themes/theme1/bg.png',\n",
       " u'profile_background_image_url_https': u'https://abs.twimg.com/images/themes/theme1/bg.png',\n",
       " u'profile_background_tile': False,\n",
       " u'profile_banner_url': u'https://pbs.twimg.com/profile_banners/1099771423/1475349037',\n",
       " u'profile_image_url': u'http://pbs.twimg.com/profile_images/860319023199916032/wb3S-xf2_normal.jpg',\n",
       " u'profile_image_url_https': u'https://pbs.twimg.com/profile_images/860319023199916032/wb3S-xf2_normal.jpg',\n",
       " u'profile_link_color': u'1DA1F2',\n",
       " u'profile_sidebar_border_color': u'C0DEED',\n",
       " u'profile_sidebar_fill_color': u'DDEEF6',\n",
       " u'profile_text_color': u'333333',\n",
       " u'profile_use_background_image': True,\n",
       " u'protected': False,\n",
       " u'screen_name': u'mhai56',\n",
       " u'statuses_count': 43964,\n",
       " u'time_zone': None,\n",
       " u'translator_type': u'none',\n",
       " u'url': None,\n",
       " u'utc_offset': None,\n",
       " u'verified': False}"
      ]
     },
     "execution_count": 4,
     "metadata": {},
     "output_type": "execute_result"
    }
   ],
   "source": [
    "statuses[0]['user']"
   ]
  },
  {
   "cell_type": "markdown",
   "metadata": {},
   "source": [
    "## API-less way"
   ]
  },
  {
   "cell_type": "code",
   "execution_count": 5,
   "metadata": {
    "collapsed": true
   },
   "outputs": [],
   "source": [
    "from bs4 import BeautifulSoup\n",
    "import requests\n",
    "import json"
   ]
  },
  {
   "cell_type": "code",
   "execution_count": 6,
   "metadata": {
    "collapsed": true
   },
   "outputs": [],
   "source": [
    "headers = {\n",
    "    'user-agent': \"Mozilla/5.0 (Macintosh; Intel Mac OS X 10.12; rv:54.0) Gecko/20100101 Firefox/54.0\"\n",
    "}\n",
    "\n",
    "geo = \"New York, NY\"\n",
    "max_id = 300252000000000000\n",
    "\n",
    "def make_url(geo, max_id, opt_query=\"\"):\n",
    "    \"\"\"construct url for geo search\n",
    "    geo: City, State\n",
    "    opt_q: optional queries like since, until\n",
    "    scroll: simulate infinite scrolling\n",
    "    \"\"\"\n",
    "    scroll = \"BD1UO2FFu9QAAAAAAAAETAAAAA\"\n",
    "    base_url = \"https://twitter.com/i/search/timeline?f=realtime\"\n",
    "    \n",
    "    if opt_query:\n",
    "        opt_query = \" \" + opt_query\n",
    "        \n",
    "    url = (base_url\n",
    "           + \"&q=near:\\\"{}\\\"{}\".format(geo, opt_query)\n",
    "           + \"&max_position=TWEET-{}-{}-{}\".format(max_id, max_id + 1, scroll)\n",
    "           + \"&src=typd&include_entities=1\")\n",
    "    return url"
   ]
  },
  {
   "cell_type": "code",
   "execution_count": 7,
   "metadata": {
    "collapsed": true
   },
   "outputs": [],
   "source": [
    "from __future__ import division\n",
    "from collections import Counter"
   ]
  },
  {
   "cell_type": "code",
   "execution_count": 8,
   "metadata": {
    "collapsed": true
   },
   "outputs": [],
   "source": [
    "# content = requests.get(url, headers=headers).json()\n",
    "\n",
    "# ID_STEPSIZE = 200000000000\n",
    "# incr = 50000000000\n",
    "# id_steps = [ID_STEPSIZE + incr * i for i in range(4)]\n",
    "# max_id = 300252000000000000\n",
    "# city = \"New York, NY\"\n",
    "\n",
    "\n",
    "def benchmark_params(query, max_id, scale_factors=(1,5), nsteps=4, nsets=4):\n",
    "    \n",
    "    if type(query) == str:\n",
    "        query = (query, \"\")\n",
    "\n",
    "    f1, f2 = scale_factors\n",
    "    id_range = int(100000000000 * f1)\n",
    "    increment = int(10000000000 * f2)\n",
    "    \n",
    "    id_steps = [id_range + increment * i for i in range(nsteps)]\n",
    "    \n",
    "    for si, step in enumerate(id_steps):\n",
    "\n",
    "        all_tweets = []\n",
    "        all_tweet_ids = []\n",
    "\n",
    "        for _ in range(nsets):\n",
    "            url = make_url(geo=query[0], max_id=max_id, opt_query=query[1])\n",
    "\n",
    "            req = requests.get(url, headers=headers)\n",
    "            json_text = json.loads(req.text)\n",
    "            soup = BeautifulSoup(json_text['items_html'], \"html5lib\")\n",
    "\n",
    "            tweets = soup.find_all('div', attrs={'class': 'tweet'})\n",
    "\n",
    "            # process tweets and insert data into database here and remove all_tweets\n",
    "            all_tweets = all_tweets + tweets\n",
    "\n",
    "            tweet_ids = [tw['data-tweet-id'] for tw in tweets]\n",
    "            all_tweet_ids = all_tweet_ids + tweet_ids\n",
    "\n",
    "            max_id = sorted(map(int, tweet_ids))[-1] + step\n",
    "\n",
    "            # tweet_texts = [tw.find('p', attrs={'class': 'tweet-text'}).text for tw in tweets]\n",
    "            # print(\"Batch {}: Saved {} tweets\".format(i, len(tweet_ids)))\n",
    "\n",
    "        n_all = len(all_tweet_ids)\n",
    "        n_unique = len(list(set(all_tweet_ids)))\n",
    "        n_overlaps = n_all - n_unique\n",
    "        \n",
    "        if si == 0:\n",
    "            print(\"City: \" + query[0])\n",
    "        \n",
    "        print(\"==> Step size: {}: {} overlaps out of {} tweets ({:.2f}%)\".\\\n",
    "                  format(step, n_overlaps, n_all, 100 * n_overlaps / n_all))\n",
    "        \n",
    "    return all_tweets\n",
    "    #return [twt for twts in all_tweets for twt in twts]"
   ]
  },
  {
   "cell_type": "markdown",
   "metadata": {},
   "source": [
    "## Some experiments\n",
    "\n",
    "`data-tweet-id` is a universal identifier of tweets. The more the city is populated, the more tweets it generates. We need to give big enough ID range to avoid too many overlaps for less populated cities.\n",
    "\n",
    "### Identifying location\n",
    "* Read this paper: [Home Location Identification of Twitter Users](https://arxiv.org/abs/1403.2345)\n",
    "\n",
    "### To-do\n",
    "* Plot Tweet ID vs. timestamp so we (approximately) know which id we should be looking at for the desired time range.\n",
    "* Consider varying lower and upper ID bounds depending on the population and time of the day."
   ]
  },
  {
   "cell_type": "code",
   "execution_count": 9,
   "metadata": {},
   "outputs": [
    {
     "name": "stdout",
     "output_type": "stream",
     "text": [
      "City: Columbus, OH\n",
      "==> Step size: 600000000000: 13 overlaps out of 94 tweets (13.83%)\n",
      "==> Step size: 650000000000: 3 overlaps out of 87 tweets (3.45%)\n",
      "==> Step size: 700000000000: 0 overlaps out of 94 tweets (0.00%)\n",
      "==> Step size: 750000000000: 0 overlaps out of 94 tweets (0.00%)\n",
      "==> Step size: 800000000000: 0 overlaps out of 96 tweets (0.00%)\n"
     ]
    }
   ],
   "source": [
    "max_id = 274000000000000000  # 2012-11\n",
    "twts = benchmark_params(\"Columbus, OH\", max_id, (6, 5), 5, 5)"
   ]
  },
  {
   "cell_type": "code",
   "execution_count": 10,
   "metadata": {
    "collapsed": true
   },
   "outputs": [],
   "source": [
    "max_id = 263110000000000000  # 2012-11\n",
    "\n",
    "def query_tweets(city, max_id, nbatch):\n",
    "    twts = benchmark_params(city, max_id, (10, 0), 1, 10)\n",
    "    id_time_tups = [(int(t['data-tweet-id']), t.find('a', attrs={'class': 'tweet-timestamp'})['title'])\n",
    "                    for t in twts]\n",
    "    sorted_tups = sorted(id_time_tups, key=lambda x: x[0])\n",
    "    print(sorted_tups[0])\n",
    "    print(sorted_tups[-1])\n",
    "    return twts"
   ]
  },
  {
   "cell_type": "code",
   "execution_count": 11,
   "metadata": {},
   "outputs": [
    {
     "name": "stdout",
     "output_type": "stream",
     "text": [
      "City: Columbus, OH\n",
      "==> Step size: 1000000000000: 16 overlaps out of 199 tweets (8.04%)\n",
      "(263058610525974530, u'4:23 PM - 29 Oct 2012')\n",
      "(263068399150710784, u'5:02 PM - 29 Oct 2012')\n",
      "City: Columbus, OH\n",
      "==> Step size: 1000000000000: 33 overlaps out of 181 tweets (18.23%)\n",
      "(263069109284126720, u'5:05 PM - 29 Oct 2012')\n",
      "(263078516386570240, u'5:43 PM - 29 Oct 2012')\n",
      "City: Columbus, OH\n",
      "==> Step size: 1000000000000: 2 overlaps out of 182 tweets (1.10%)\n",
      "(263079190230880256, u'5:45 PM - 29 Oct 2012')\n",
      "(263088597874397184, u'6:23 PM - 29 Oct 2012')\n",
      "City: Columbus, OH\n",
      "==> Step size: 1000000000000: 2 overlaps out of 177 tweets (1.13%)\n",
      "(263089387032674304, u'6:26 PM - 29 Oct 2012')\n",
      "(263098644004216833, u'7:02 PM - 29 Oct 2012')\n"
     ]
    }
   ],
   "source": [
    "twts_cum = []\n",
    "twts_cum.append(query_tweets(\"Columbus, OH\", 263060000000000000, 10))\n",
    "twts_cum.append(query_tweets(\"Columbus, OH\", 263070000000000000, 10))\n",
    "twts_cum.append(query_tweets(\"Columbus, OH\", 263080000000000000, 10))\n",
    "twts_cum.append(query_tweets(\"Columbus, OH\", 263090000000000000, 10))"
   ]
  },
  {
   "cell_type": "code",
   "execution_count": 12,
   "metadata": {
    "scrolled": true
   },
   "outputs": [
    {
     "data": {
      "text/plain": [
       "(263058610525974530,\n",
       " <div class=\"tweet js-stream-tweet js-actionable-tweet js-profile-popup-actionable dismissible-content original-tweet js-original-tweet \" data-component-context=\"tweet\" data-conversation-id=\"263058610525974530\" data-disclosure-type=\"\" data-follows-you=\"false\" data-item-id=\"263058610525974530\" data-name=\"Ryan Sefcik\" data-permalink-path=\"/RyanSefcik/status/263058610525974530\" data-reply-to-users-json='[{\"id_str\":\"355165726\",\"screen_name\":\"RyanSefcik\",\"name\":\"Ryan Sefcik\",\"emojified_name\":{\"text\":\"Ryan Sefcik\",\"emojified_text_as_html\":\"Ryan Sefcik\"}}]' data-screen-name=\"RyanSefcik\" data-tweet-id=\"263058610525974530\" data-tweet-nonce=\"263058610525974530-8deda78b-baaf-4745-87ae-4e8173a71b30\" data-tweet-stat-initialized=\"true\" data-user-id=\"355165726\" data-you-block=\"false\" data-you-follow=\"false\">\\n\\n    <div class=\"context\">\\n      \\n      \\n    </div>\\n\\n    <div class=\"content\">\\n      \\n\\n      \\n\\n      \\n      <div class=\"stream-item-header\">\\n          <a class=\"account-group js-account-group js-action-profile js-user-profile-link js-nav\" data-user-id=\"355165726\" href=\"/RyanSefcik\">\\n    <img alt=\"\" class=\"avatar js-action-profile-avatar\" src=\"https://pbs.twimg.com/profile_images/674627651550773248/_njGD4O9_bigger.jpg\"/>\\n    <span class=\"FullNameGroup\">\\n      <strong class=\"fullname show-popup-with-id \" data-aria-label-part=\"\">Ryan Sefcik</strong><span>\\u200f</span><span class=\"UserBadges\"></span><span class=\"UserNameBreak\">\\xa0</span></span><span class=\"username u-dir\" data-aria-label-part=\"\" dir=\"ltr\">@<b>RyanSefcik</b></span></a>\\n\\n        \\n        <small class=\"time\">\\n  <a class=\"tweet-timestamp js-permalink js-nav js-tooltip\" data-conversation-id=\"263058610525974530\" href=\"/RyanSefcik/status/263058610525974530\" title=\"4:23 PM - 29 Oct 2012\"><span class=\"_timestamp js-short-timestamp \" data-aria-label-part=\"last\" data-long-form=\"true\" data-time=\"1351553034\" data-time-ms=\"1351553034000\">29 Oct 2012</span></a>\\n</small>\\n\\n          <div class=\"ProfileTweet-action ProfileTweet-action--more js-more-ProfileTweet-actions\">\\n    <div class=\"dropdown\">\\n  <button class=\"ProfileTweet-actionButton u-textUserColorHover dropdown-toggle js-dropdown-toggle\" type=\"button\">\\n      <div class=\"IconContainer js-tooltip\" title=\"More\">\\n        <span class=\"Icon Icon--caretDownLight Icon--smallest\"></span>\\n        <span class=\"u-hiddenVisually\">More</span>\\n      </div>\\n  </button>\\n  <div class=\"dropdown-menu is-autoCentered\">\\n  <div class=\"dropdown-caret\">\\n    <div class=\"caret-outer\"></div>\\n    <div class=\"caret-inner\"></div>\\n  </div>\\n  <ul>\\n    \\n      <li class=\"copy-link-to-tweet js-actionCopyLinkToTweet\">\\n        <button class=\"dropdown-link\" type=\"button\">Copy link to Tweet</button>\\n      </li>\\n      <li class=\"embed-link js-actionEmbedTweet\" data-nav=\"embed_tweet\">\\n        <button class=\"dropdown-link\" type=\"button\">Embed Tweet</button>\\n      </li>\\n  </ul>\\n</div>\\n</div>\\n  </div>\\n\\n      </div>\\n\\n      \\n\\n\\n      \\n        <div class=\"js-tweet-text-container\">\\n  <p class=\"TweetTextSize js-tweet-text tweet-text\" data-aria-label-part=\"0\" lang=\"en\">My focus is lacking for these quizzes tomorrow</p>\\n</div>\\n\\n\\n      \\n\\n      \\n        \\n\\n\\n      \\n      \\n\\n      \\n      <div class=\"stream-item-footer\">\\n  \\n      <div class=\"ProfileTweet-actionCountList u-hiddenVisually\">\\n    \\n    \\n    <span class=\"ProfileTweet-action--reply u-hiddenVisually\">\\n      <span aria-hidden=\"true\" class=\"ProfileTweet-actionCount\" data-tweet-stat-count=\"0\">\\n        <span class=\"ProfileTweet-actionCountForAria\">0 replies</span>\\n      </span>\\n    </span>\\n    <span class=\"ProfileTweet-action--retweet u-hiddenVisually\">\\n      <span aria-hidden=\"true\" class=\"ProfileTweet-actionCount\" data-tweet-stat-count=\"0\">\\n        <span class=\"ProfileTweet-actionCountForAria\">0 retweets</span>\\n      </span>\\n    </span>\\n    <span class=\"ProfileTweet-action--favorite u-hiddenVisually\">\\n      <span aria-hidden=\"true\" class=\"ProfileTweet-actionCount\" data-tweet-stat-count=\"0\">\\n        <span class=\"ProfileTweet-actionCountForAria\">0 likes</span>\\n      </span>\\n    </span>\\n  </div>\\n\\n  <div aria-label=\"Tweet actions\" class=\"ProfileTweet-actionList js-actions\" role=\"group\">\\n    <div class=\"ProfileTweet-action ProfileTweet-action--reply\">\\n  <button class=\"ProfileTweet-actionButton js-actionButton js-actionReply\" data-modal=\"ProfileTweet-reply\" type=\"button\">\\n    <div class=\"IconContainer js-tooltip\" title=\"Reply\">\\n      <span class=\"Icon Icon--reply\"></span>\\n      <span class=\"u-hiddenVisually\">Reply</span>\\n    </div>\\n      <div class=\"IconTextContainer\">\\n        <span class=\"ProfileTweet-actionCount ProfileTweet-actionCount--isZero \">\\n          <span aria-hidden=\"true\" class=\"ProfileTweet-actionCountForPresentation\"></span>\\n        </span>\\n      </div>\\n  </button>\\n</div>\\n    <div class=\"ProfileTweet-action ProfileTweet-action--retweet js-toggleState js-toggleRt\">\\n  <button class=\"ProfileTweet-actionButton js-actionButton js-actionRetweet\" data-modal=\"ProfileTweet-retweet\" type=\"button\">\\n    <div class=\"IconContainer js-tooltip\" title=\"Retweet\">\\n      <span class=\"Icon Icon--retweet\"></span>\\n      <span class=\"u-hiddenVisually\">Retweet</span>\\n    </div>\\n      <div class=\"IconTextContainer\">\\n        <span class=\"ProfileTweet-actionCount ProfileTweet-actionCount--isZero\">\\n          <span aria-hidden=\"true\" class=\"ProfileTweet-actionCountForPresentation\"></span>\\n        </span>\\n      </div>\\n  </button><button class=\"ProfileTweet-actionButtonUndo js-actionButton js-actionRetweet\" data-modal=\"ProfileTweet-retweet\" type=\"button\">\\n    <div class=\"IconContainer js-tooltip\" title=\"Undo retweet\">\\n      <span class=\"Icon Icon--retweet\"></span>\\n      <span class=\"u-hiddenVisually\">Retweeted</span>\\n    </div>\\n      <div class=\"IconTextContainer\">\\n        <span class=\"ProfileTweet-actionCount ProfileTweet-actionCount--isZero\">\\n          <span aria-hidden=\"true\" class=\"ProfileTweet-actionCountForPresentation\"></span>\\n        </span>\\n      </div>\\n  </button>\\n</div>\\n\\n    <div class=\"ProfileTweet-action ProfileTweet-action--favorite js-toggleState\">\\n  <button class=\"ProfileTweet-actionButton js-actionButton js-actionFavorite\" type=\"button\">\\n    <div class=\"IconContainer js-tooltip\" title=\"Like\">\\n      <div class=\"HeartAnimationContainer\">\\n        <div class=\"HeartAnimation\"></div>\\n      </div>\\n      <span class=\"u-hiddenVisually\">Like</span>\\n    </div>\\n      <div class=\"IconTextContainer\">\\n        <span class=\"ProfileTweet-actionCount ProfileTweet-actionCount--isZero\">\\n          <span aria-hidden=\"true\" class=\"ProfileTweet-actionCountForPresentation\"></span>\\n        </span>\\n      </div>\\n  </button><button class=\"ProfileTweet-actionButtonUndo u-linkClean js-actionButton js-actionFavorite\" type=\"button\">\\n    <div class=\"IconContainer js-tooltip\" title=\"Undo like\">\\n      <div class=\"HeartAnimationContainer\">\\n        <div class=\"HeartAnimation\"></div>\\n      </div>\\n      <span class=\"u-hiddenVisually\">Liked</span>\\n    </div>\\n      <div class=\"IconTextContainer\">\\n        <span class=\"ProfileTweet-actionCount ProfileTweet-actionCount--isZero\">\\n          <span aria-hidden=\"true\" class=\"ProfileTweet-actionCountForPresentation\"></span>\\n        </span>\\n      </div>\\n  </button>\\n</div>\\n\\n    \\n\\n    \\n\\n  </div>\\n\\n</div>\\n  \\n\\n\\n\\n      \\n      \\n\\n    </div>\\n  </div>)"
      ]
     },
     "execution_count": 14,
     "metadata": {},
     "output_type": "execute_result"
    }
   ],
   "source": [
    "# flatten lists of tweets\n",
    "flattened = [(int(t['data-tweet-id']), t) for twts in twts_cum for t in twts]\n",
    "\n",
    "# get unique tweets\n",
    "seen = set()\n",
    "unique = []\n",
    "for t in flattened:\n",
    "    if t[0] not in seen:\n",
    "        seen.add(t[0])\n",
    "        unique.append(t)\n",
    "\n",
    "srted = sorted(unique, key=lambda x: x[0])\n",
    "srted[0]"
   ]
  },
  {
   "cell_type": "code",
   "execution_count": null,
   "metadata": {
    "collapsed": true
   },
   "outputs": [],
   "source": [
    "# regenerate tweet timeline\n",
    "with open('test.html', 'w') as f:\n",
    "    f.write('\\n'.join(map(lambda x: x[1].prettify().encode('utf-8'), srted)))"
   ]
  },
  {
   "cell_type": "code",
   "execution_count": null,
   "metadata": {
    "collapsed": true
   },
   "outputs": [],
   "source": [
    "# benchmark_params(\"Los Angeles, CA\", max_id, (3, 2))\n",
    "# # test optional arguments\n",
    "# twts = benchmark_params((\"Los Angeles, CA\", \"until:\\\"2013-01-23\\\"\"), max_id, (1, 1), 1, 1)\n",
    "# print('\\n'.join([t.find('a', attrs={'class': 'tweet-timestamp'})['title'] for t in twts]))"
   ]
  }
 ],
 "metadata": {
  "kernelspec": {
   "display_name": "Python 2",
   "language": "python",
   "name": "python2"
  },
  "language_info": {
   "codemirror_mode": {
    "name": "ipython",
    "version": 2
   },
   "file_extension": ".py",
   "mimetype": "text/x-python",
   "name": "python",
   "nbconvert_exporter": "python",
   "pygments_lexer": "ipython2",
   "version": "2.7.13"
  }
 },
 "nbformat": 4,
 "nbformat_minor": 2
}
